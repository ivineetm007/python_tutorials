{
  "cells": [
    {
      "cell_type": "markdown",
      "metadata": {
        "id": "BXm6l-9uHpTg"
      },
      "source": [
        "# Recitation 0B - Fundamentals of NumPy\n",
        "## Table of Contents\n",
        "1. What is NumPy?\n",
        "2. Installation\n",
        "3. Initialization\n",
        "4. Accessing\n",
        "5. Modifying data\n",
        "6. Pivoting data\n",
        "7. Combining data\n",
        "8. Math operations"
      ]
    },
    {
      "cell_type": "markdown",
      "metadata": {
        "id": "JyeYlpUiHpTy"
      },
      "source": [
        "## 1. What is NumPy?"
      ]
    },
    {
      "cell_type": "markdown",
      "metadata": {
        "id": "IecCYB3VHpT0"
      },
      "source": [
        "NumPy is the fundamental package for scientific computing in Python. \n",
        "It is a Python library that provides and an assortment of operations for fast operations on arrays - from mathematical, logical operations to basic linear algebra, random simulation and much more."
      ]
    },
    {
      "cell_type": "markdown",
      "metadata": {
        "id": "O-NS4yjoHpT1"
      },
      "source": [
        "## 2. Installation\n",
        "Generally NumPy is pre-installed on CoLab/AWS. You should first check if NumPy is available and its version.\n",
        "\n",
        "To manually install Numpy, please follow the instructions below."
      ]
    },
    {
      "cell_type": "code",
      "execution_count": 1,
      "metadata": {
        "colab": {
          "base_uri": "https://localhost:8080/"
        },
        "id": "taJkmgOQHpT4",
        "outputId": "0310b05d-e4ad-4ce2-be2c-924640c89147"
      },
      "outputs": [
        {
          "output_type": "stream",
          "name": "stdout",
          "text": [
            "Name: numpy\n",
            "Version: 1.22.4\n",
            "Summary: NumPy is the fundamental package for array computing with Python.\n",
            "Home-page: https://www.numpy.org\n",
            "Author: Travis E. Oliphant et al.\n",
            "Author-email: \n",
            "License: BSD\n",
            "Location: /usr/local/lib/python3.10/dist-packages\n",
            "Requires: \n",
            "Required-by: albumentations, altair, arviz, astropy, autograd, blis, bokeh, chex, cmdstanpy, contourpy, cufflinks, cvxpy, datascience, db-dtypes, dopamine-rl, ecos, flax, folium, gensim, gym, h5py, holoviews, hyperopt, imageio, imbalanced-learn, imgaug, jax, jaxlib, librosa, lightgbm, matplotlib, matplotlib-venn, missingno, mizani, ml-dtypes, mlxtend, moviepy, music21, nibabel, numba, numexpr, opencv-contrib-python, opencv-python, opencv-python-headless, opt-einsum, optax, orbax-checkpoint, osqp, pandas, pandas-gbq, patsy, plotnine, prophet, pyarrow, pycocotools, pyerfa, pymc, pytensor, python-louvain, PyWavelets, qdldl, qudida, scikit-image, scikit-learn, scipy, scs, seaborn, shapely, sklearn-pandas, soxr, spacy, statsmodels, tables, tensorboard, tensorflow, tensorflow-datasets, tensorflow-hub, tensorflow-probability, tensorstore, thinc, tifffile, torchtext, torchvision, wordcloud, xarray, xarray-einstats, xgboost, yellowbrick, yfinance\n",
            "Looking in indexes: https://pypi.org/simple, https://us-python.pkg.dev/colab-wheels/public/simple/\n",
            "Requirement already satisfied: numpy in /usr/local/lib/python3.10/dist-packages (1.22.4)\n"
          ]
        }
      ],
      "source": [
        "# Check the installation of NumPy\n",
        "!pip show numpy\n",
        "\n",
        "# Install NumPy\n",
        "!pip install numpy\n",
        "\n",
        "# Import NumPy \n",
        "import numpy as np"
      ]
    },
    {
      "cell_type": "markdown",
      "metadata": {
        "id": "OmHWDHnBHpT8"
      },
      "source": [
        "## 3. Initialization"
      ]
    },
    {
      "cell_type": "markdown",
      "metadata": {
        "id": "2srBVFCHHpT-"
      },
      "source": [
        "### a. Intrinsic NumPy array creation functions\n"
      ]
    },
    {
      "cell_type": "markdown",
      "metadata": {
        "id": "ndNV2nz5HpT_"
      },
      "source": [
        "#### 1D array creation functions"
      ]
    },
    {
      "cell_type": "code",
      "execution_count": 2,
      "metadata": {
        "colab": {
          "base_uri": "https://localhost:8080/"
        },
        "id": "LKQF7NLRHpUB",
        "outputId": "64b617cb-b556-40e8-e252-587ad48cc6a4"
      },
      "outputs": [
        {
          "output_type": "stream",
          "name": "stdout",
          "text": [
            "An array given range is \n",
            " [0 1 2 3 4 5 6 7 8 9]  with dimensions  (10,) \n",
            "\n",
            "An evenly spaced array given range is \n",
            " [2.  2.2 2.4 2.6 2.8]  with dimensions  (5,) \n",
            "\n"
          ]
        }
      ],
      "source": [
        "# return evenly spaced values within a given interval\n",
        "range_arr = np.arange(10)\n",
        "print(\"An array given range is \\n\", range_arr, \" with dimensions \", range_arr.shape, \"\\n\")\n",
        "\n",
        "# return evenly spaced numbers over a specified interval\n",
        "linspace_arr = np.linspace(2.0, 3.0, num=5, endpoint=False)\n",
        "print(\"An evenly spaced array given range is \\n\", linspace_arr, \" with dimensions \", linspace_arr.shape, \"\\n\")"
      ]
    },
    {
      "cell_type": "markdown",
      "metadata": {
        "id": "wsa3tKRRHpUD"
      },
      "source": [
        "#### General ndarray creation functions"
      ]
    },
    {
      "cell_type": "code",
      "execution_count": 3,
      "metadata": {
        "colab": {
          "base_uri": "https://localhost:8080/"
        },
        "id": "gHByxRRzHpUE",
        "outputId": "69aa1e09-9c4c-432b-98d1-d3fce3544c61"
      },
      "outputs": [
        {
          "output_type": "stream",
          "name": "stdout",
          "text": [
            "An empty array is \n",
            " [[2.76943715e-316 0.00000000e+000]\n",
            " [6.59737730e-310 0.00000000e+000]]  with dimensions  (2, 2) \n",
            "\n",
            "float64\n",
            "A zeros array is \n",
            " [[0. 0. 0.]\n",
            " [0. 0. 0.]]  with dimensions  (2, 3) \n",
            "\n",
            "float64\n",
            "A ones array is \n",
            " [[1. 1.]\n",
            " [1. 1.]\n",
            " [1. 1.]\n",
            " [1. 1.]]  with dimensions  (4, 2) \n",
            "\n",
            "float64\n",
            "A filled array is \n",
            " [[10 10]\n",
            " [10 10]]  with dimensions  (2, 2) \n",
            "\n"
          ]
        }
      ],
      "source": [
        "# initialize an empty array with size 2 x 2\n",
        "empty_arr = np.empty((2, 2))\n",
        "print(\"An empty array is \\n\", empty_arr, \" with dimensions \", empty_arr.shape, \"\\n\")\n",
        "print(empty_arr.dtype)\n",
        "# initialize an all zero array with size 2 x 3\n",
        "zeros_arr = np.zeros((2, 3))\n",
        "print(\"A zeros array is \\n\", zeros_arr, \" with dimensions \", zeros_arr.shape, \"\\n\")\n",
        "print(empty_arr.dtype)\n",
        "# initialize an all one array with size 4 x 2\n",
        "ones_arr = np.ones((4, 2))\n",
        "print(\"A ones array is \\n\", ones_arr, \" with dimensions \", ones_arr.shape, \"\\n\")\n",
        "print(empty_arr.dtype)\n",
        "# return a new array of given shape and type, filled with fill_value\n",
        "tens_arr = np.full((2,2), 10)\n",
        "print(\"A filled array is \\n\", tens_arr, \" with dimensions \", tens_arr.shape, \"\\n\")\n"
      ]
    },
    {
      "cell_type": "code",
      "execution_count": 4,
      "metadata": {
        "colab": {
          "base_uri": "https://localhost:8080/"
        },
        "id": "B0XBGi0yHpUG",
        "outputId": "0972a1f8-f572-4802-dc02-e25a985e6e04"
      },
      "outputs": [
        {
          "output_type": "stream",
          "name": "stdout",
          "text": [
            "A zero like array is \n",
            " [[0. 0.]\n",
            " [0. 0.]\n",
            " [0. 0.]\n",
            " [0. 0.]]  with dimensions  (4, 2) \n",
            "\n",
            "A ones like array is \n",
            " [[1. 1. 1.]\n",
            " [1. 1. 1.]]  with dimensions  (2, 3) \n",
            "\n",
            "A full like array is \n",
            " [[0.1 0.1 0.1]\n",
            " [0.1 0.1 0.1]]  with dimensions  (2, 3) \n",
            "\n"
          ]
        }
      ],
      "source": [
        "# return an array of zeros with the same shape and type as a given array\n",
        "zeros_like_arr = np.zeros_like(ones_arr)\n",
        "print(\"A zero like array is \\n\", zeros_like_arr, \" with dimensions \", zeros_like_arr.shape, \"\\n\")\n",
        "\n",
        "# return an array of ones with the same shape and type as a given array\n",
        "ones_like_arr = np.ones_like(zeros_arr)\n",
        "print(\"A ones like array is \\n\", ones_like_arr, \" with dimensions \", ones_like_arr.shape, \"\\n\")\n",
        "\n",
        "# Return a full array with the same shape and type as a given array.\n",
        "full_like_arr = np.full_like(zeros_arr, 0.1, dtype=np.double)\n",
        "print(\"A full like array is \\n\", full_like_arr, \" with dimensions \", full_like_arr.shape, \"\\n\")"
      ]
    },
    {
      "cell_type": "markdown",
      "source": [
        "#### Special 2D arrays"
      ],
      "metadata": {
        "id": "qd8WyXObCXIP"
      }
    },
    {
      "cell_type": "code",
      "source": [
        "# Return a 2-D array with ones on the diagonal and zeros elsewhere.\n",
        "eye_arr = np.eye(2,4,  dtype=int)\n",
        "print(eye_arr)\n",
        "\n",
        "# identity array i.e square matrix \n",
        "identity_arr = np.identity(3)\n",
        "print(identity_arr)"
      ],
      "metadata": {
        "colab": {
          "base_uri": "https://localhost:8080/"
        },
        "id": "XKJVYTUCCTYe",
        "outputId": "29796299-721f-40fa-99ed-613c7c68af59"
      },
      "execution_count": 5,
      "outputs": [
        {
          "output_type": "stream",
          "name": "stdout",
          "text": [
            "[[1 0 0 0]\n",
            " [0 1 0 0]]\n",
            "[[1. 0. 0.]\n",
            " [0. 1. 0.]\n",
            " [0. 0. 1.]]\n"
          ]
        }
      ]
    },
    {
      "cell_type": "code",
      "source": [],
      "metadata": {
        "id": "r5HQ_ncXCeDz"
      },
      "execution_count": 5,
      "outputs": []
    },
    {
      "cell_type": "markdown",
      "metadata": {
        "id": "R9ity31NHpUK"
      },
      "source": [
        "### b. Create an array from existing data"
      ]
    },
    {
      "cell_type": "markdown",
      "metadata": {
        "id": "G0W50h3iHpUL"
      },
      "source": [
        "#### Conversion from other Python structures (i.e. lists and tuples)"
      ]
    },
    {
      "cell_type": "code",
      "execution_count": 6,
      "metadata": {
        "colab": {
          "base_uri": "https://localhost:8080/"
        },
        "id": "9BVLi_SEHpUL",
        "outputId": "59eb01c2-6a4f-4f01-95a6-c1b69e102c25"
      },
      "outputs": [
        {
          "output_type": "stream",
          "name": "stdout",
          "text": [
            "An array from given list is \n",
            " [1 2 3 4]  with dimensions  (4,) \n",
            "\n"
          ]
        }
      ],
      "source": [
        "# initialize an array with the given list\n",
        "new_list = [1, 2, 3, 4]\n",
        "arr_from_list = np.array(new_list)\n",
        "print(\"An array from given list is \\n\", arr_from_list, \" with dimensions \", arr_from_list.shape, \"\\n\")"
      ]
    },
    {
      "cell_type": "code",
      "source": [
        "new_tuple = (1, 2, 3, 4)\n",
        "arr_from_tuple = np.array(new_tuple)\n",
        "print(arr_from_tuple)"
      ],
      "metadata": {
        "colab": {
          "base_uri": "https://localhost:8080/"
        },
        "id": "t3meLZngEe-Z",
        "outputId": "b9159da4-9043-460f-9311-93a79979e5f2"
      },
      "execution_count": 7,
      "outputs": [
        {
          "output_type": "stream",
          "name": "stdout",
          "text": [
            "[1 2 3 4]\n"
          ]
        }
      ]
    },
    {
      "cell_type": "markdown",
      "metadata": {
        "id": "LYtapc6yHpUM"
      },
      "source": [
        "#### Reading arrays from disk"
      ]
    },
    {
      "cell_type": "code",
      "source": [
        "from io import StringIO # StringIO behaves like a file object\n",
        "file_obj = StringIO(\"0 1\\n2 3\")"
      ],
      "metadata": {
        "id": "LnnQOlouSTLd"
      },
      "execution_count": 8,
      "outputs": []
    },
    {
      "cell_type": "code",
      "execution_count": 9,
      "metadata": {
        "id": "JqR2IXdjHpUN",
        "colab": {
          "base_uri": "https://localhost:8080/"
        },
        "outputId": "b3f02b3b-40b1-4d14-c9dc-0952c0681815"
      },
      "outputs": [
        {
          "output_type": "stream",
          "name": "stdout",
          "text": [
            "The array is \n",
            " [[0. 1.]\n",
            " [2. 3.]]  with dimensions  (2, 2) data type float64 \n",
            "\n"
          ]
        }
      ],
      "source": [
        "# initialize an array by loading data from a txt file via file object or stringIO\n",
        "# txt_arr = np.loadtxt(path_to_txt_file)\n",
        "txt_arr = np.loadtxt(file_obj)\n",
        "print(\"The array is \\n\", txt_arr, \" with dimensions \", txt_arr.shape, \"data type\", txt_arr.dtype,\"\\n\")\n",
        "\n"
      ]
    },
    {
      "cell_type": "code",
      "source": [
        "# save an array in numpy format\n",
        "np.save('sample', txt_arr)"
      ],
      "metadata": {
        "id": "-58zy0rATEDb"
      },
      "execution_count": 10,
      "outputs": []
    },
    {
      "cell_type": "code",
      "source": [
        "# initialize an array by loading data from a npy file\n",
        "loaded_arr = np.load('sample.npy')\n",
        "print(\"The array is \\n\", loaded_arr, \" with dimensions \", loaded_arr.shape, \"data type\", loaded_arr.dtype,\"\\n\")"
      ],
      "metadata": {
        "colab": {
          "base_uri": "https://localhost:8080/"
        },
        "id": "XFM0qSlbS-43",
        "outputId": "2594c9df-4b82-46f5-a61b-8fb118b4b0fb"
      },
      "execution_count": 11,
      "outputs": [
        {
          "output_type": "stream",
          "name": "stdout",
          "text": [
            "The array is \n",
            " [[0. 1.]\n",
            " [2. 3.]]  with dimensions  (2, 2) data type float64 \n",
            "\n"
          ]
        }
      ]
    },
    {
      "cell_type": "markdown",
      "metadata": {
        "id": "67h_6E1THpUO"
      },
      "source": [
        "### c. Use of special library functions (e.g., random)"
      ]
    },
    {
      "cell_type": "code",
      "execution_count": 12,
      "metadata": {
        "colab": {
          "base_uri": "https://localhost:8080/"
        },
        "id": "44ctfEXjHpUP",
        "outputId": "e2009e2f-2531-4ebb-b800-e7195d761ddd"
      },
      "outputs": [
        {
          "output_type": "stream",
          "name": "stdout",
          "text": [
            "Random integer array [[0 0 3 4]] of shape  (1, 4)\n",
            "Random integer array with seed [[5 0 3 3]] of shape  (1, 4)\n"
          ]
        }
      ],
      "source": [
        "a = np.random.randint(0, 10, size = (1,4))\n",
        "print(\"Random integer array\", a, \"of shape \", a.shape)\n",
        "\n",
        "np.random.seed(0)\n",
        "a = np.random.randint(0, 10, size = (1,4))\n",
        "print(\"Random integer array with seed\", a, \"of shape \", a.shape)"
      ]
    },
    {
      "cell_type": "code",
      "execution_count": 13,
      "metadata": {
        "colab": {
          "base_uri": "https://localhost:8080/"
        },
        "id": "pdrjc3XgHpUQ",
        "outputId": "96beccd9-3016-4d42-f89c-7158ff46ec51"
      },
      "outputs": [
        {
          "output_type": "stream",
          "name": "stdout",
          "text": [
            "A random array from a uniform distribution is \n",
            " [[0.84725174 0.6235637 ]\n",
            " [0.38438171 0.29753461]\n",
            " [0.05671298 0.27265629]]  with dimensions  (3, 2) \n",
            "\n",
            "A random array from a gaussian distribution is \n",
            " [[ 6.41366795  2.7557607  -3.06488643  1.8673605 ]\n",
            " [ 1.82307249  5.43253999 -0.19537279  6.5934267 ]]\n",
            "with mu:  3\n",
            "with sigma:  2.5\n",
            "with dimensions  (2, 4)\n"
          ]
        }
      ],
      "source": [
        "# create an array of the given shape and populate it with random samples from a uniform distribution over [0, 1)\n",
        "uniform_rand_arr = np.random.rand(3,2)\n",
        "print(\"A random array from a uniform distribution is \\n\", uniform_rand_arr, \" with dimensions \", uniform_rand_arr.shape, \"\\n\")\n",
        "\n",
        "# For random samples from N(\\mu, \\sigma^2), use:\n",
        "# sigma * np.random.randn(...) + mu\n",
        "# Here, rand generate samples from N(0,1)\n",
        "mu = 3\n",
        "sigma =2.5\n",
        "sample_normal_arr = mu + sigma * np.random.randn(2, 4)\n",
        "print(\"A random array from a gaussian distribution is \\n\", sample_normal_arr)\n",
        "print(\"with mu: \", mu)\n",
        "print(\"with sigma: \", sigma)\n",
        "print(\"with dimensions \", sample_normal_arr.shape)"
      ]
    },
    {
      "cell_type": "markdown",
      "metadata": {
        "id": "YtWPYLkVHpUR"
      },
      "source": [
        "## 4. Accessing data"
      ]
    },
    {
      "cell_type": "markdown",
      "metadata": {
        "id": "JByg7hHoHpUS"
      },
      "source": [
        "### a. Indexing: Accessing values from Numpy Arrays"
      ]
    },
    {
      "cell_type": "code",
      "execution_count": 14,
      "metadata": {
        "colab": {
          "base_uri": "https://localhost:8080/"
        },
        "id": "wEvW5BHwHpUS",
        "outputId": "a1261bb0-08e5-4fc9-9726-181c422c82bc"
      },
      "outputs": [
        {
          "output_type": "execute_result",
          "data": {
            "text/plain": [
              "0.3172017420692961"
            ]
          },
          "metadata": {},
          "execution_count": 14
        }
      ],
      "source": [
        "n = np.random.rand(4, 5, 6) # see this as 4 batches, each containing 5 rows and 6 columns\n",
        "n\n",
        "\n",
        "n[1, 2, 3] # returns the element located in the fourth column of third row of the second batch."
      ]
    },
    {
      "cell_type": "markdown",
      "metadata": {
        "id": "RR3WxA5gHpUT"
      },
      "source": [
        "### b. Slicing: Accessing subsections of Numpy Arrays based on Indices"
      ]
    },
    {
      "cell_type": "code",
      "execution_count": 15,
      "metadata": {
        "colab": {
          "base_uri": "https://localhost:8080/"
        },
        "id": "zzbC2yyqHpUT",
        "outputId": "f887db3c-c112-4357-b117-81f43ccb61db"
      },
      "outputs": [
        {
          "output_type": "stream",
          "name": "stdout",
          "text": [
            "[[0.95715516 0.14035078 0.87008726 0.47360805 0.80091075 0.52047748]\n",
            " [0.67887953 0.72063265 0.58201979 0.53737323 0.75861562 0.10590761]\n",
            " [0.47360042 0.18633234 0.73691818 0.21655035 0.13521817 0.32414101]\n",
            " [0.14967487 0.22232139 0.38648898 0.90259848 0.44994999 0.61306346]\n",
            " [0.90234858 0.09928035 0.96980907 0.65314004 0.17090959 0.35815217]]\n",
            "[[0.95715516 0.14035078 0.87008726 0.47360805]\n",
            " [0.67887953 0.72063265 0.58201979 0.53737323]\n",
            " [0.47360042 0.18633234 0.73691818 0.21655035]]\n",
            "[0.44994999 0.971945   0.14644176 0.38346223]\n"
          ]
        }
      ],
      "source": [
        "# slice along a batch\n",
        "print(n[0, :, :]) # same as: n[0]\n",
        "\n",
        "print(n[0, 0:3, 0:4])\n",
        "\n",
        "# slice along multiple batches\n",
        "print(n[:, 3, 4]) # returns the elements in the 4th row and 5th column across all batches"
      ]
    },
    {
      "cell_type": "code",
      "execution_count": 16,
      "metadata": {
        "id": "g_p5E8LbHpUU",
        "colab": {
          "base_uri": "https://localhost:8080/"
        },
        "outputId": "d8af90a5-d008-4a3c-fce9-dc4d8305549c"
      },
      "outputs": [
        {
          "output_type": "stream",
          "name": "stdout",
          "text": [
            "[[[0.95715516 0.14035078 0.87008726 0.47360805 0.80091075 0.52047748]\n",
            "  [0.67887953 0.72063265 0.58201979 0.53737323 0.75861562 0.10590761]\n",
            "  [0.47360042 0.18633234 0.73691818 0.21655035 0.13521817 0.32414101]\n",
            "  [0.14967487 0.22232139 0.38648898 0.90259848 0.44994999 0.61306346]\n",
            "  [0.90234858 0.09928035 0.96980907 0.65314004 0.17090959 0.35815217]]\n",
            "\n",
            " [[0.35944446 0.48089353 0.68866118 0.88047589 0.91823547 0.21682214]\n",
            "  [0.56518887 0.86510256 0.50896896 0.91672295 0.92115761 0.08311249]\n",
            "  [0.27771856 0.0093567  0.84234208 0.64717414 0.84138612 0.26473016]\n",
            "  [0.39782075 0.55282148 0.16494046 0.36980809 0.14644176 0.56961841]\n",
            "  [0.70373728 0.28847644 0.43328806 0.75610669 0.39609828 0.89603839]]]\n",
            "[[[0.72063265 0.53737323 0.10590761]\n",
            "  [0.18633234 0.21655035 0.32414101]\n",
            "  [0.22232139 0.90259848 0.61306346]]\n",
            "\n",
            " [[0.86510256 0.91672295 0.08311249]\n",
            "  [0.0093567  0.64717414 0.26473016]\n",
            "  [0.55282148 0.36980809 0.56961841]]]\n"
          ]
        }
      ],
      "source": [
        "#syntax for slicing at interval is start:stop:step_size \n",
        "\n",
        "print(n[0::2]) # slices from index 0 to the end of the dimension at intervals of 2\n",
        "\n",
        "print(n[0::2, 1:4, 1::2]) # rows (2-5) and columns at an interval of 2, starting from 1"
      ]
    },
    {
      "cell_type": "markdown",
      "metadata": {
        "id": "kAErIAxZHpUV"
      },
      "source": [
        "## 5. Modifying data"
      ]
    },
    {
      "cell_type": "markdown",
      "metadata": {
        "id": "7ud8w4DpHpUV"
      },
      "source": [
        "### Modify single values"
      ]
    },
    {
      "cell_type": "code",
      "execution_count": 17,
      "metadata": {
        "colab": {
          "base_uri": "https://localhost:8080/"
        },
        "id": "YcBs-wRYHpUW",
        "outputId": "8c5d1ec8-7b48-419a-fb86-878b7f1b2af4"
      },
      "outputs": [
        {
          "output_type": "stream",
          "name": "stdout",
          "text": [
            "True\n",
            "False\n"
          ]
        }
      ],
      "source": [
        "#When you assign an array or its elements to a new variable, \n",
        "#you have to explicitly numpy.copy the array, otherwise the variable is a view into the original array.\n",
        "\n",
        "n_copy = np.copy(n)\n",
        "\n",
        "# check if values in the two arrays are the same before copy\n",
        "print(n_copy[2, 4, 1] == n[2, 4, 1])\n",
        "\n",
        "n_copy[2, 4, 1] = 0.005\n",
        "\n",
        "# check if values in the two arrays are the same after copy\n",
        "print(n_copy[2, 4, 1] == n[2, 4, 1])"
      ]
    },
    {
      "cell_type": "markdown",
      "metadata": {
        "id": "nfcg92dtHpUW"
      },
      "source": [
        "### Modifying multiple values"
      ]
    },
    {
      "cell_type": "code",
      "execution_count": 18,
      "metadata": {
        "id": "gu8vrdBnHpUX",
        "colab": {
          "base_uri": "https://localhost:8080/"
        },
        "outputId": "47cc3b9b-fd8b-4fd5-fcfa-133eda4d0ca4"
      },
      "outputs": [
        {
          "output_type": "stream",
          "name": "stdout",
          "text": [
            "Are the arrays the same before modification: [ True  True  True  True  True  True]\n",
            "Before modifying values: [0.39782075 0.55282148 0.16494046 0.36980809 0.14644176 0.56961841]\n",
            "After modifying values: [0.5 0.5 0.5 0.5 0.5 0.5]\n",
            "Are the arrays the same after modification: [False False False False False False]\n"
          ]
        }
      ],
      "source": [
        "# check if values in the two arrays are the same before copy\n",
        "print(f\"Are the arrays the same before modification: {n_copy[2, 3] == n[2, 3]}\")\n",
        "print(f\"Before modifying values: {n_copy[2, 3]}\")\n",
        "\n",
        "n_copy[2, 3] = 0.5\n",
        "\n",
        "print(f\"After modifying values: {n_copy[2, 3]}\")\n",
        "\n",
        "# check if values in the two arrays are the same after copy\n",
        "print(f\"Are the arrays the same after modification: {n_copy[2, 3] == n[2, 3]}\")"
      ]
    },
    {
      "cell_type": "markdown",
      "metadata": {
        "id": "W4jpg_fIHpUY"
      },
      "source": [
        "## 6.Pivoting data"
      ]
    },
    {
      "cell_type": "markdown",
      "metadata": {
        "id": "xR2cVtrEHpUZ"
      },
      "source": [
        "### a. Reshaping Arrays\n",
        "Array reshaping is an operation that changes the shape of an array whilst maintaining the same data in the array. \n",
        "\n",
        "For instance, reshaping from (3, 4, 5) -> (2, 5, 6) or from (3, 4, 5) -> (6, 10). A reshape operation is valid, so long as the product of the new shape specified matches the product of the old shape."
      ]
    },
    {
      "cell_type": "markdown",
      "metadata": {
        "id": "uUuwNYrPHpUa"
      },
      "source": [
        "#### Reshaping within the same number of dimensions"
      ]
    },
    {
      "cell_type": "code",
      "execution_count": 21,
      "metadata": {
        "id": "N2UFp3AJHpUa",
        "colab": {
          "base_uri": "https://localhost:8080/"
        },
        "outputId": "22ae75d1-03b1-41d2-8dcc-452fb7dbc516"
      },
      "outputs": [
        {
          "output_type": "stream",
          "name": "stdout",
          "text": [
            "Original Shape: (3, 4, 5)\n",
            "[[[0.96896177 0.32099724 0.22126269 0.1412639  0.09725993]\n",
            "  [0.98404224 0.26034093 0.53702252 0.44792617 0.09956909]\n",
            "  [0.35231166 0.46924917 0.84114013 0.90464774 0.03755938]\n",
            "  [0.50831545 0.16684751 0.77905102 0.8649333  0.41139672]]\n",
            "\n",
            " [[0.13997259 0.03322239 0.98257496 0.37329075 0.42007537]\n",
            "  [0.05058812 0.36549611 0.01662797 0.23074234 0.7649117 ]\n",
            "  [0.94412352 0.74999925 0.33940382 0.48954894 0.33898512]\n",
            "  [0.17949026 0.1709866  0.46345098 0.87457296 0.94411975]]\n",
            "\n",
            " [[0.60825287 0.59665541 0.78364425 0.5000263  0.05037006]\n",
            "  [0.69909807 0.9923964  0.26726254 0.67909062 0.86428144]\n",
            "  [0.75084425 0.96448977 0.55424244 0.2123905  0.22244322]\n",
            "  [0.21874937 0.56957353 0.45210904 0.97023668 0.68054469]]]\n"
          ]
        }
      ],
      "source": [
        "s = np.random.rand(3, 4, 5)\n",
        "print(f\"Original Shape: {s.shape}\")\n",
        "\n",
        "s.size\n",
        "\n",
        "print(s)"
      ]
    },
    {
      "cell_type": "code",
      "execution_count": 22,
      "metadata": {
        "id": "P2F-z-VKHpUb",
        "colab": {
          "base_uri": "https://localhost:8080/"
        },
        "outputId": "bc3f3c23-91e2-46b8-fa73-1d852de97fce"
      },
      "outputs": [
        {
          "output_type": "stream",
          "name": "stdout",
          "text": [
            "Reshaped from s: (2, 6, 5)\n",
            "[[[0.96896177 0.32099724 0.22126269 0.1412639  0.09725993]\n",
            "  [0.98404224 0.26034093 0.53702252 0.44792617 0.09956909]\n",
            "  [0.35231166 0.46924917 0.84114013 0.90464774 0.03755938]\n",
            "  [0.50831545 0.16684751 0.77905102 0.8649333  0.41139672]\n",
            "  [0.13997259 0.03322239 0.98257496 0.37329075 0.42007537]\n",
            "  [0.05058812 0.36549611 0.01662797 0.23074234 0.7649117 ]]\n",
            "\n",
            " [[0.94412352 0.74999925 0.33940382 0.48954894 0.33898512]\n",
            "  [0.17949026 0.1709866  0.46345098 0.87457296 0.94411975]\n",
            "  [0.60825287 0.59665541 0.78364425 0.5000263  0.05037006]\n",
            "  [0.69909807 0.9923964  0.26726254 0.67909062 0.86428144]\n",
            "  [0.75084425 0.96448977 0.55424244 0.2123905  0.22244322]\n",
            "  [0.21874937 0.56957353 0.45210904 0.97023668 0.68054469]]]\n"
          ]
        }
      ],
      "source": [
        "s1 = s.reshape(2, 6, 5)\n",
        "print(f\"Reshaped from s: {s1.shape}\")\n",
        "\n",
        "print(s1)"
      ]
    },
    {
      "cell_type": "markdown",
      "metadata": {
        "id": "bzN161HzHpUc"
      },
      "source": [
        "#### Reshaping to a different number of dimensions"
      ]
    },
    {
      "cell_type": "code",
      "execution_count": 23,
      "metadata": {
        "id": "AYxhG7PbHpUd",
        "colab": {
          "base_uri": "https://localhost:8080/"
        },
        "outputId": "a81cb8ea-1892-4615-f042-14058cd8548a"
      },
      "outputs": [
        {
          "output_type": "stream",
          "name": "stdout",
          "text": [
            "Original shape: (120,)\n",
            "[  0   1   2   3   4   5   6   7   8   9  10  11  12  13  14  15  16  17\n",
            "  18  19  20  21  22  23  24  25  26  27  28  29  30  31  32  33  34  35\n",
            "  36  37  38  39  40  41  42  43  44  45  46  47  48  49  50  51  52  53\n",
            "  54  55  56  57  58  59  60  61  62  63  64  65  66  67  68  69  70  71\n",
            "  72  73  74  75  76  77  78  79  80  81  82  83  84  85  86  87  88  89\n",
            "  90  91  92  93  94  95  96  97  98  99 100 101 102 103 104 105 106 107\n",
            " 108 109 110 111 112 113 114 115 116 117 118 119]\n"
          ]
        }
      ],
      "source": [
        "r = np.arange(120)\n",
        "\n",
        "print(f\"Original shape: {r.shape}\")\n",
        "\n",
        "print(r)"
      ]
    },
    {
      "cell_type": "code",
      "execution_count": 24,
      "metadata": {
        "id": "l9SNeUuPHpUd",
        "colab": {
          "base_uri": "https://localhost:8080/"
        },
        "outputId": "f3d2fb81-edc5-4a5e-a5b0-e7194f880c8b"
      },
      "outputs": [
        {
          "output_type": "stream",
          "name": "stdout",
          "text": [
            "Reshaped from r: (3, 4, 10)\n",
            "[[[  0   1   2   3   4   5   6   7   8   9]\n",
            "  [ 10  11  12  13  14  15  16  17  18  19]\n",
            "  [ 20  21  22  23  24  25  26  27  28  29]\n",
            "  [ 30  31  32  33  34  35  36  37  38  39]]\n",
            "\n",
            " [[ 40  41  42  43  44  45  46  47  48  49]\n",
            "  [ 50  51  52  53  54  55  56  57  58  59]\n",
            "  [ 60  61  62  63  64  65  66  67  68  69]\n",
            "  [ 70  71  72  73  74  75  76  77  78  79]]\n",
            "\n",
            " [[ 80  81  82  83  84  85  86  87  88  89]\n",
            "  [ 90  91  92  93  94  95  96  97  98  99]\n",
            "  [100 101 102 103 104 105 106 107 108 109]\n",
            "  [110 111 112 113 114 115 116 117 118 119]]]\n"
          ]
        }
      ],
      "source": [
        "# (120,) -> (3, 4, 10)\n",
        "r1 = r.reshape(3, 4, 10) # this can also be written as r.reshape((3, 4, 10))\n",
        "print(f\"Reshaped from r: {r1.shape}\")\n",
        "\n",
        "print(r1)"
      ]
    },
    {
      "cell_type": "code",
      "execution_count": 25,
      "metadata": {
        "id": "JbmXQowXHpUe",
        "colab": {
          "base_uri": "https://localhost:8080/"
        },
        "outputId": "22e13bf1-f693-438e-ea2e-084e95cfcc6c"
      },
      "outputs": [
        {
          "output_type": "stream",
          "name": "stdout",
          "text": [
            "Reshaped from r1: (6, 20)\n",
            "[[  0   1   2   3   4   5   6   7   8   9  10  11  12  13  14  15  16  17\n",
            "   18  19]\n",
            " [ 20  21  22  23  24  25  26  27  28  29  30  31  32  33  34  35  36  37\n",
            "   38  39]\n",
            " [ 40  41  42  43  44  45  46  47  48  49  50  51  52  53  54  55  56  57\n",
            "   58  59]\n",
            " [ 60  61  62  63  64  65  66  67  68  69  70  71  72  73  74  75  76  77\n",
            "   78  79]\n",
            " [ 80  81  82  83  84  85  86  87  88  89  90  91  92  93  94  95  96  97\n",
            "   98  99]\n",
            " [100 101 102 103 104 105 106 107 108 109 110 111 112 113 114 115 116 117\n",
            "  118 119]]\n"
          ]
        }
      ],
      "source": [
        "# (3, 4, 10) -> (6, 20)\n",
        "r2 = r1.reshape(6, 20)\n",
        "print(f\"Reshaped from r1: {r2.shape}\")\n",
        "\n",
        "print(r2)"
      ]
    },
    {
      "cell_type": "markdown",
      "metadata": {
        "id": "EMCPGiTMHpUf"
      },
      "source": [
        "### b. Transposing Arrays\n",
        "The transpose operation reverses the order of an array. It switches the rows to columns and vice versa. In a multi-dimensional array, the transpose operation moves the data from one axis to another in the order specified in the transpose method."
      ]
    },
    {
      "cell_type": "code",
      "execution_count": null,
      "metadata": {
        "id": "BDKR9Xd9HpUf",
        "colab": {
          "base_uri": "https://localhost:8080/"
        },
        "outputId": "963441d8-bbc6-4e17-90b3-84d10792b3a0"
      },
      "outputs": [
        {
          "output_type": "stream",
          "name": "stdout",
          "text": [
            "Shape of the original array (5, 10)\n",
            "Original array\n",
            " [[ 0  1  2  3  4  5  6  7  8  9]\n",
            " [10 11 12 13 14 15 16 17 18 19]\n",
            " [20 21 22 23 24 25 26 27 28 29]\n",
            " [30 31 32 33 34 35 36 37 38 39]\n",
            " [40 41 42 43 44 45 46 47 48 49]]\n",
            "Shape of the transposed array (10, 5)\n",
            "Transposed array\n",
            " [[ 0 10 20 30 40]\n",
            " [ 1 11 21 31 41]\n",
            " [ 2 12 22 32 42]\n",
            " [ 3 13 23 33 43]\n",
            " [ 4 14 24 34 44]\n",
            " [ 5 15 25 35 45]\n",
            " [ 6 16 26 36 46]\n",
            " [ 7 17 27 37 47]\n",
            " [ 8 18 28 38 48]\n",
            " [ 9 19 29 39 49]]\n"
          ]
        },
        {
          "output_type": "execute_result",
          "data": {
            "text/plain": [
              "array([[ 0, 10, 20, 30, 40],\n",
              "       [ 1, 11, 21, 31, 41],\n",
              "       [ 2, 12, 22, 32, 42],\n",
              "       [ 3, 13, 23, 33, 43],\n",
              "       [ 4, 14, 24, 34, 44],\n",
              "       [ 5, 15, 25, 35, 45],\n",
              "       [ 6, 16, 26, 36, 46],\n",
              "       [ 7, 17, 27, 37, 47],\n",
              "       [ 8, 18, 28, 38, 48],\n",
              "       [ 9, 19, 29, 39, 49]])"
            ]
          },
          "metadata": {},
          "execution_count": 26
        }
      ],
      "source": [
        "x=np.arange(50).reshape((5,10))\n",
        "print(\"Shape of the original array\", x.shape)\n",
        "print(\"Original array\\n\", x)\n",
        "\n",
        "x1=np.transpose(x)\n",
        "print(\"Shape of the transposed array\", x1.shape)\n",
        "print(\"Transposed array\\n\", x1)\n",
        "\n",
        "x.T"
      ]
    },
    {
      "cell_type": "code",
      "execution_count": 26,
      "metadata": {
        "id": "4r55SNHMHpUg",
        "colab": {
          "base_uri": "https://localhost:8080/"
        },
        "outputId": "2fc21523-be65-4413-c60c-da0ebf3a77ae"
      },
      "outputs": [
        {
          "output_type": "stream",
          "name": "stdout",
          "text": [
            "Shape of the Original array (3, 4, 5)\n",
            "Original array\n",
            " [[[ 0  1  2  3  4]\n",
            "  [ 5  6  7  8  9]\n",
            "  [10 11 12 13 14]\n",
            "  [15 16 17 18 19]]\n",
            "\n",
            " [[20 21 22 23 24]\n",
            "  [25 26 27 28 29]\n",
            "  [30 31 32 33 34]\n",
            "  [35 36 37 38 39]]\n",
            "\n",
            " [[40 41 42 43 44]\n",
            "  [45 46 47 48 49]\n",
            "  [50 51 52 53 54]\n",
            "  [55 56 57 58 59]]]\n"
          ]
        }
      ],
      "source": [
        "w = np.arange(60).reshape((3, 4, 5))\n",
        "w\n",
        "\n",
        "print(\"Shape of the Original array\", w.shape)\n",
        "print(\"Original array\\n\", w)\n",
        "\n"
      ]
    },
    {
      "cell_type": "markdown",
      "metadata": {
        "id": "GFDVM7amHpUh"
      },
      "source": [
        "#### Transpose without specifying axes"
      ]
    },
    {
      "cell_type": "code",
      "execution_count": 27,
      "metadata": {
        "id": "MNeXwAZgHpUh",
        "colab": {
          "base_uri": "https://localhost:8080/"
        },
        "outputId": "df4ce441-4194-4c7a-9177-86021ca683ce"
      },
      "outputs": [
        {
          "output_type": "stream",
          "name": "stdout",
          "text": [
            "Shape of the transposed array (5, 4, 3)\n",
            "Transposed array\n",
            " [[[ 0 20 40]\n",
            "  [ 5 25 45]\n",
            "  [10 30 50]\n",
            "  [15 35 55]]\n",
            "\n",
            " [[ 1 21 41]\n",
            "  [ 6 26 46]\n",
            "  [11 31 51]\n",
            "  [16 36 56]]\n",
            "\n",
            " [[ 2 22 42]\n",
            "  [ 7 27 47]\n",
            "  [12 32 52]\n",
            "  [17 37 57]]\n",
            "\n",
            " [[ 3 23 43]\n",
            "  [ 8 28 48]\n",
            "  [13 33 53]\n",
            "  [18 38 58]]\n",
            "\n",
            " [[ 4 24 44]\n",
            "  [ 9 29 49]\n",
            "  [14 34 54]\n",
            "  [19 39 59]]]\n"
          ]
        }
      ],
      "source": [
        "# Original Shape: 3,4,5\n",
        "\n",
        "w1 = np.transpose(w)  # 0->2, 1->1, 2->0   (0,1,2)->(2,1,0)\n",
        "print(\"Shape of the transposed array\", w1.shape)\n",
        "print(\"Transposed array\\n\", w1)"
      ]
    },
    {
      "cell_type": "markdown",
      "metadata": {
        "id": "AuUGTI9HHpUi"
      },
      "source": [
        "#### Transpose along specified axes"
      ]
    },
    {
      "cell_type": "code",
      "execution_count": 28,
      "metadata": {
        "id": "-0QV9U2CHpUi",
        "colab": {
          "base_uri": "https://localhost:8080/"
        },
        "outputId": "2ed1f38f-b06b-4d19-d1b1-bba9d1b75b81"
      },
      "outputs": [
        {
          "output_type": "stream",
          "name": "stdout",
          "text": [
            "Shape of the transposed array (3, 5, 4)\n",
            "Transposed array\n",
            " [[[ 0  5 10 15]\n",
            "  [ 1  6 11 16]\n",
            "  [ 2  7 12 17]\n",
            "  [ 3  8 13 18]\n",
            "  [ 4  9 14 19]]\n",
            "\n",
            " [[20 25 30 35]\n",
            "  [21 26 31 36]\n",
            "  [22 27 32 37]\n",
            "  [23 28 33 38]\n",
            "  [24 29 34 39]]\n",
            "\n",
            " [[40 45 50 55]\n",
            "  [41 46 51 56]\n",
            "  [42 47 52 57]\n",
            "  [43 48 53 58]\n",
            "  [44 49 54 59]]]\n",
            "Shape of the transposed array (4, 5, 3)\n",
            "Transposed array\n",
            " [[[ 0 20 40]\n",
            "  [ 1 21 41]\n",
            "  [ 2 22 42]\n",
            "  [ 3 23 43]\n",
            "  [ 4 24 44]]\n",
            "\n",
            " [[ 5 25 45]\n",
            "  [ 6 26 46]\n",
            "  [ 7 27 47]\n",
            "  [ 8 28 48]\n",
            "  [ 9 29 49]]\n",
            "\n",
            " [[10 30 50]\n",
            "  [11 31 51]\n",
            "  [12 32 52]\n",
            "  [13 33 53]\n",
            "  [14 34 54]]\n",
            "\n",
            " [[15 35 55]\n",
            "  [16 36 56]\n",
            "  [17 37 57]\n",
            "  [18 38 58]\n",
            "  [19 39 59]]]\n"
          ]
        }
      ],
      "source": [
        "w\n",
        "\n",
        "# Original Shape: 3,4,5\n",
        "\n",
        "w2 = np.transpose(w, axes=(0, 2, 1)) # 0, 1, 2\n",
        "print(\"Shape of the transposed array\", w2.shape)\n",
        "print(\"Transposed array\\n\", w2)\n",
        "\n",
        "# Original Shape: 3,4,5\n",
        "\n",
        "w3 = np.transpose(w, axes=(1, 2, 0))\n",
        "print(\"Shape of the transposed array\", w3.shape)\n",
        "print(\"Transposed array\\n\", w3)"
      ]
    },
    {
      "cell_type": "markdown",
      "metadata": {
        "id": "ejFcBxjzHpUj"
      },
      "source": [
        "### c. Flattening Arrays\n",
        "The flatten operation in Numpy collapses arrays of multiple dimensions into one dimension.\n",
        "\n",
        "\n",
        "Different orders can be specified when flattening Numpy Arrays. See examples below."
      ]
    },
    {
      "cell_type": "code",
      "execution_count": 29,
      "metadata": {
        "id": "MzNn4KY1HpUk",
        "colab": {
          "base_uri": "https://localhost:8080/"
        },
        "outputId": "5fc3a978-9e1e-408e-f66e-17a8c707c64e"
      },
      "outputs": [
        {
          "output_type": "execute_result",
          "data": {
            "text/plain": [
              "array([[8.52955659e-02, 5.64183327e-02, 4.87837704e-01, 8.81004562e-01,\n",
              "        9.76404387e-01, 6.17657916e-01],\n",
              "       [5.42498775e-01, 8.54613580e-01, 7.43834545e-01, 4.78596326e-01,\n",
              "        6.77081574e-01, 6.07045061e-01],\n",
              "       [7.14696936e-01, 4.69497183e-01, 4.56014623e-01, 9.06418087e-01,\n",
              "        1.37220420e-01, 2.29219323e-01],\n",
              "       [8.81585399e-01, 9.04424976e-01, 6.45784599e-01, 3.24682972e-01,\n",
              "        5.19711194e-01, 5.53568650e-05],\n",
              "       [3.11860221e-01, 4.25451538e-01, 8.85337660e-01, 6.79879456e-01,\n",
              "        4.56129772e-01, 4.83408617e-01]])"
            ]
          },
          "metadata": {},
          "execution_count": 29
        }
      ],
      "source": [
        "k = np.random.rand(5, 6)\n",
        "\n",
        "k"
      ]
    },
    {
      "cell_type": "markdown",
      "metadata": {
        "id": "2djArzfIHpUl"
      },
      "source": [
        "#### Flattening Arrays along the row (default order)"
      ]
    },
    {
      "cell_type": "code",
      "execution_count": 30,
      "metadata": {
        "id": "0qagG2djHpUl",
        "colab": {
          "base_uri": "https://localhost:8080/"
        },
        "outputId": "23780084-3b06-4e13-d100-042f3ebfba6f"
      },
      "outputs": [
        {
          "output_type": "execute_result",
          "data": {
            "text/plain": [
              "(30,)"
            ]
          },
          "metadata": {},
          "execution_count": 30
        }
      ],
      "source": [
        "k1 = k.flatten() # all rows are stacked on each other into a 1D array.\n",
        "k1\n",
        "\n",
        "k1.shape"
      ]
    },
    {
      "cell_type": "markdown",
      "metadata": {
        "id": "BqS4vN0OHpUm"
      },
      "source": [
        "#### Flattening Arrays along the column"
      ]
    },
    {
      "cell_type": "code",
      "execution_count": 31,
      "metadata": {
        "id": "QfZo22dqHpUn",
        "colab": {
          "base_uri": "https://localhost:8080/"
        },
        "outputId": "7875bba7-bc13-4603-cec7-0332d2cb7f70"
      },
      "outputs": [
        {
          "output_type": "execute_result",
          "data": {
            "text/plain": [
              "(30,)"
            ]
          },
          "metadata": {},
          "execution_count": 31
        }
      ],
      "source": [
        "k2= k.flatten('F') # forms a 1D array where elements in a column are listed before moving to the next column.\n",
        "k2\n",
        "\n",
        "k2.shape"
      ]
    },
    {
      "cell_type": "markdown",
      "metadata": {
        "id": "Sd8arDrXHpUn"
      },
      "source": [
        "#### Flattening Arrays using Numpy Reshape\n"
      ]
    },
    {
      "cell_type": "code",
      "execution_count": 32,
      "metadata": {
        "id": "aw-8bdxMHpUo",
        "colab": {
          "base_uri": "https://localhost:8080/"
        },
        "outputId": "5321cdfb-80c3-4430-9d4c-10ab470e747b"
      },
      "outputs": [
        {
          "output_type": "execute_result",
          "data": {
            "text/plain": [
              "(30,)"
            ]
          },
          "metadata": {},
          "execution_count": 32
        }
      ],
      "source": [
        "k4= k.reshape(-1)\n",
        "k4\n",
        "\n",
        "k4.shape"
      ]
    },
    {
      "cell_type": "markdown",
      "metadata": {
        "id": "lfUilRX_HpUo"
      },
      "source": [
        "### d. Squeezing & Expanding Arrays"
      ]
    },
    {
      "cell_type": "markdown",
      "metadata": {
        "id": "AHilONPhHpUp"
      },
      "source": [
        "#### Squeezing Numpy Arrays\n",
        "\n",
        "The squeeze operation allows reduction of numpy arrays axes by dropping a specified axis, so long as it is of **unit length**. The product of the shape (overall size of the array) remains the same."
      ]
    },
    {
      "cell_type": "code",
      "execution_count": 33,
      "metadata": {
        "id": "LdT2e7qdHpUq",
        "colab": {
          "base_uri": "https://localhost:8080/"
        },
        "outputId": "a23ccd50-1d54-4ae0-8eb4-72d218baad8c"
      },
      "outputs": [
        {
          "output_type": "stream",
          "name": "stdout",
          "text": [
            "Original Array: \n",
            "[[[0.78873943 0.22944183 0.8802976  0.31369239 0.95745086]]\n",
            "\n",
            " [[0.47175157 0.71158382 0.15369431 0.73044218 0.64626444]]\n",
            "\n",
            " [[0.21488074 0.18645822 0.80758027 0.74707947 0.67484735]]\n",
            "\n",
            " [[0.27689375 0.17490887 0.70447426 0.4631502  0.84042853]]]\n",
            "\n",
            "Shape of Original Array: (4, 1, 5)\n",
            "Squeezed Array: \n",
            " [[0.78873943 0.22944183 0.8802976  0.31369239 0.95745086]\n",
            " [0.47175157 0.71158382 0.15369431 0.73044218 0.64626444]\n",
            " [0.21488074 0.18645822 0.80758027 0.74707947 0.67484735]\n",
            " [0.27689375 0.17490887 0.70447426 0.4631502  0.84042853]]\n",
            "\n",
            "Shape of Squeezed Array: (4, 5)\n"
          ]
        }
      ],
      "source": [
        "sq = np.random.rand(4, 1, 5)\n",
        "print(f\"Original Array: \\n{sq}\\n\")\n",
        "print(f\"Shape of Original Array: {sq.shape}\")\n",
        "\n",
        "# transforms from (4, 1, 5) -> (4, 5)\n",
        "sq1 = np.squeeze(sq)\n",
        "print(f\"Squeezed Array: \\n {sq1}\\n\")\n",
        "print(f\"Shape of Squeezed Array: {sq1.shape}\")"
      ]
    },
    {
      "cell_type": "code",
      "execution_count": 34,
      "metadata": {
        "id": "lFLHDi_XHpUr",
        "colab": {
          "base_uri": "https://localhost:8080/"
        },
        "outputId": "262c3903-7a1c-40af-a8cf-21ce0569d173"
      },
      "outputs": [
        {
          "output_type": "stream",
          "name": "stdout",
          "text": [
            "Specified axis Squeezed Array: \n",
            " [[0.78873943 0.22944183 0.8802976  0.31369239 0.95745086]\n",
            " [0.47175157 0.71158382 0.15369431 0.73044218 0.64626444]\n",
            " [0.21488074 0.18645822 0.80758027 0.74707947 0.67484735]\n",
            " [0.27689375 0.17490887 0.70447426 0.4631502  0.84042853]]\n",
            "\n",
            "Shape of Specified axis Squeezed Array: (4, 5)\n"
          ]
        }
      ],
      "source": [
        "# Squeezing specified axes\n",
        "\n",
        "q2 = np.squeeze(sq, axis=1)\n",
        "print(f\"Specified axis Squeezed Array: \\n {q2}\\n\")\n",
        "print(f\"Shape of Specified axis Squeezed Array: {q2.shape}\")"
      ]
    },
    {
      "cell_type": "markdown",
      "metadata": {
        "id": "tlcyrkHYHpUs"
      },
      "source": [
        "#### Unsqueezing (Expanding) Numpy Arrays\n",
        "This is the direct opposite of squeezing. A new unit axis is inserted in specified position. Multiple unit axes can be inserted by using a tuple on the axis attribute of the `expand_dims` method."
      ]
    },
    {
      "cell_type": "code",
      "execution_count": 35,
      "metadata": {
        "id": "CQD5uJtgHpUt",
        "colab": {
          "base_uri": "https://localhost:8080/"
        },
        "outputId": "890151c7-512d-4670-9df6-8493af74b82b"
      },
      "outputs": [
        {
          "output_type": "stream",
          "name": "stdout",
          "text": [
            "Original Array: \n",
            " [[0.20486576 0.16495887 0.12483306 0.72208066 0.03045296]\n",
            " [0.74699424 0.09259617 0.21745049 0.74925442 0.73169376]\n",
            " [0.04561464 0.20915703 0.28691504 0.67726331 0.06303829]\n",
            " [0.55564924 0.00924007 0.8330381  0.98432943 0.70349478]]\n",
            "\n",
            "Shape of Original Array: (4, 5)\n",
            "Expanded Array: \n",
            " [[[0.20486576 0.16495887 0.12483306 0.72208066 0.03045296]]\n",
            "\n",
            " [[0.74699424 0.09259617 0.21745049 0.74925442 0.73169376]]\n",
            "\n",
            " [[0.04561464 0.20915703 0.28691504 0.67726331 0.06303829]]\n",
            "\n",
            " [[0.55564924 0.00924007 0.8330381  0.98432943 0.70349478]]]\n",
            "\n",
            "Shape of Expanded Array: (4, 1, 5)\n",
            "Multi-axes Expanded Array: \n",
            " [[[[0.20486576 0.16495887 0.12483306 0.72208066 0.03045296]]\n",
            "\n",
            "  [[0.74699424 0.09259617 0.21745049 0.74925442 0.73169376]]\n",
            "\n",
            "  [[0.04561464 0.20915703 0.28691504 0.67726331 0.06303829]]\n",
            "\n",
            "  [[0.55564924 0.00924007 0.8330381  0.98432943 0.70349478]]]]\n",
            "\n",
            "Shape of Multi-axes Expanded Array: (1, 4, 1, 5)\n"
          ]
        }
      ],
      "source": [
        "y = np.random.rand(4, 5)\n",
        "print(f\"Original Array: \\n {y}\\n\")\n",
        "print(f\"Shape of Original Array: {y.shape}\")\n",
        "\n",
        "# transforms from (4, 5) -> (4, 1, 5)\n",
        "y1 = np.expand_dims(y, axis=1)\n",
        "print(f\"Expanded Array: \\n {y1}\\n\")\n",
        "print(f\"Shape of Expanded Array: {y1.shape}\")\n",
        "\n",
        "# transforms from (4, 5) -> (1, 4, 1, 5)\n",
        "y2 = np.expand_dims(y, axis=(0, 2))\n",
        "print(f\"Multi-axes Expanded Array: \\n {y2}\\n\")\n",
        "print(f\"Shape of Multi-axes Expanded Array: {y2.shape}\")"
      ]
    },
    {
      "cell_type": "markdown",
      "metadata": {
        "id": "vNdj9UY-HpUt"
      },
      "source": [
        "## 7. Combining data"
      ]
    },
    {
      "cell_type": "markdown",
      "metadata": {
        "id": "U7CFkBjlHpUu"
      },
      "source": [
        "### a. Concatenation\n",
        "\n",
        "A concatenation operation joins a sequence of arrays along an *existing* axis. All arrays must either have the same shape (except in the concatenating dimension) or be empty."
      ]
    },
    {
      "cell_type": "code",
      "execution_count": 36,
      "metadata": {
        "id": "JNAaTSpUHpUv",
        "colab": {
          "base_uri": "https://localhost:8080/"
        },
        "outputId": "0b1def46-30a7-4966-ff16-5e1c74f849c1"
      },
      "outputs": [
        {
          "output_type": "stream",
          "name": "stdout",
          "text": [
            "Array 1 is \n",
            " [[[0 1]\n",
            "  [0 2]]\n",
            "\n",
            " [[1 0]\n",
            "  [1 2]]\n",
            "\n",
            " [[0 0]\n",
            "  [0 2]]]  with dimensions  (3, 2, 2) \n",
            "\n",
            "Array 2 is \n",
            " [[[1 3]\n",
            "  [0 0]]\n",
            "\n",
            " [[0 0]\n",
            "  [1 3]]\n",
            "\n",
            " [[2 2]\n",
            "  [1 0]]]  with dimensions  (3, 2, 2) \n",
            "\n",
            "Concatenated array 1 is \n",
            " [[[0 1]\n",
            "  [0 2]]\n",
            "\n",
            " [[1 0]\n",
            "  [1 2]]\n",
            "\n",
            " [[0 0]\n",
            "  [0 2]]\n",
            "\n",
            " [[1 3]\n",
            "  [0 0]]\n",
            "\n",
            " [[0 0]\n",
            "  [1 3]]\n",
            "\n",
            " [[2 2]\n",
            "  [1 0]]] \n",
            "\n",
            " and the dimensions of the concatenated array 1 are: \n",
            " (6, 2, 2)\n",
            "Concatenated array 2 is \n",
            " [[[0 1]\n",
            "  [0 2]\n",
            "  [1 3]\n",
            "  [0 0]]\n",
            "\n",
            " [[1 0]\n",
            "  [1 2]\n",
            "  [0 0]\n",
            "  [1 3]]\n",
            "\n",
            " [[0 0]\n",
            "  [0 2]\n",
            "  [2 2]\n",
            "  [1 0]]] \n",
            "\n",
            " and the dimensions of the concatenated array 2 are: \n",
            " (3, 4, 2)\n",
            "Concatenated array 3 is \n",
            " [[[0 1 1 3]\n",
            "  [0 2 0 0]]\n",
            "\n",
            " [[1 0 0 0]\n",
            "  [1 2 1 3]]\n",
            "\n",
            " [[0 0 2 2]\n",
            "  [0 2 1 0]]] \n",
            "\n",
            " and the dimensions of the concatenated array 3 are: \n",
            " (3, 2, 4)\n"
          ]
        }
      ],
      "source": [
        "# Concatenating Numpy Arrays\n",
        "\n",
        "array1 = np.random.randint(3, size = (3, 2, 2))\n",
        "print(\"Array 1 is \\n\", array1, \" with dimensions \", array1.shape, \"\\n\")\n",
        "\n",
        "array2 = np.random.randint(4, size = (3, 2, 2))\n",
        "print(\"Array 2 is \\n\", array2, \" with dimensions \", array2.shape, \"\\n\")\n",
        "\n",
        "concatenated_array1 = np.concatenate((array1, array2), axis = 0) \n",
        "print(\"Concatenated array 1 is \\n\", concatenated_array1, \"\\n\\n\", \"and the dimensions of the concatenated array 1 are: \\n\", concatenated_array1.shape)\n",
        "\n",
        "concatenated_array2 = np.concatenate((array1, array2), axis = 1) \n",
        "print(\"Concatenated array 2 is \\n\", concatenated_array2, \"\\n\\n\", \"and the dimensions of the concatenated array 2 are: \\n\", concatenated_array2.shape)\n",
        "\n",
        "concatenated_array3 = np.concatenate((array1, array2), axis = 2) \n",
        "print(\"Concatenated array 3 is \\n\", concatenated_array3, \"\\n\\n\", \"and the dimensions of the concatenated array 3 are: \\n\", concatenated_array3.shape)\n"
      ]
    },
    {
      "cell_type": "markdown",
      "metadata": {
        "id": "P21Eatt4HpUw"
      },
      "source": [
        "### b. Stacking\n",
        "\n",
        "The stack operation joins a sequence of arrays along a *new* axis. The axis parameter specifies the index of the new axis in the dimensions of the result. For example, if axis = 0 it will be the first dimension and if axis = -1 it will be the last dimension. All arrays need to be of the same size.  The stacked array has one more dimension than the input arrays."
      ]
    },
    {
      "cell_type": "code",
      "execution_count": 37,
      "metadata": {
        "id": "vIr_o26NHpUw",
        "colab": {
          "base_uri": "https://localhost:8080/"
        },
        "outputId": "b13c1a23-f246-44b2-8ac5-f4d211f45aac"
      },
      "outputs": [
        {
          "output_type": "stream",
          "name": "stdout",
          "text": [
            "Array 1 is \n",
            " [1 2 3]  with dimensions  (3,) \n",
            "\n",
            "Array 2 is \n",
            " [4 5 6]  with dimensions  (3,) \n",
            "\n",
            "Stacked array 1 is \n",
            " [[1 2 3]\n",
            " [4 5 6]]  with dimensions  (2, 3)\n",
            "Stacked array 2 is \n",
            " [[1 4]\n",
            " [2 5]\n",
            " [3 6]]  with dimensions  (3, 2)\n",
            "Stacked array 3 is \n",
            " [[1 4]\n",
            " [2 5]\n",
            " [3 6]]  with dimensions  (3, 2)\n"
          ]
        }
      ],
      "source": [
        "# Stacking 1-d Arrays\n",
        "\n",
        "array1 = np.array([1, 2, 3])\n",
        "print(\"Array 1 is \\n\", array1, \" with dimensions \", array1.shape, \"\\n\")\n",
        "\n",
        "array2 = np.array([4, 5, 6])\n",
        "print(\"Array 2 is \\n\", array2, \" with dimensions \", array2.shape, \"\\n\")\n",
        "\n",
        "\n",
        "stacked_array1 = np.stack((array1, array2), axis = 0)\n",
        "print(\"Stacked array 1 is \\n\", stacked_array1, \" with dimensions \", stacked_array1.shape)\n",
        "\n",
        "stacked_array2 = np.stack((array1, array2), axis = 1) \n",
        "print(\"Stacked array 2 is \\n\", stacked_array2, \" with dimensions \", stacked_array2.shape)\n",
        "\n",
        "stacked_array3 = np.stack((array1, array2), axis = -1) \n",
        "print(\"Stacked array 3 is \\n\", stacked_array3, \" with dimensions \", stacked_array3.shape)"
      ]
    },
    {
      "cell_type": "code",
      "execution_count": 38,
      "metadata": {
        "id": "kUgwKQ-7HpUx",
        "colab": {
          "base_uri": "https://localhost:8080/"
        },
        "outputId": "cd2b0e6c-238d-4aff-bd0c-29b6d2279dae"
      },
      "outputs": [
        {
          "output_type": "stream",
          "name": "stdout",
          "text": [
            "Array 1 has dimensions  (3, 4, 5) \n",
            "\n",
            "Array 2 has dimensions  (3, 4, 5) \n",
            "\n",
            "Stacked array 1 has dimensions (2, 3, 4, 5) \n",
            "\n",
            "Stacked array 2 has dimensions (3, 2, 4, 5) \n",
            "\n",
            "Stacked array 3 has dimensions (3, 4, 2, 5) \n",
            "\n",
            "Stacked array 4 has dimensions (3, 4, 5, 2) \n",
            "\n"
          ]
        }
      ],
      "source": [
        "\n",
        "# Stacking Numpy Arrays\n",
        "\n",
        "array1 = np.random.randint(3, size = (3, 4, 5))\n",
        "print(\"Array 1 has dimensions \", array1.shape, \"\\n\")\n",
        "\n",
        "array2 = np.random.randint(4, size = (3, 4, 5))\n",
        "print(\"Array 2 has dimensions \", array2.shape, \"\\n\")\n",
        "\n",
        "stacked_array1 = np.stack((array1, array2), axis = 0)\n",
        "print(\"Stacked array 1 has dimensions\", stacked_array1.shape, \"\\n\")\n",
        "\n",
        "stacked_array2 = np.stack((array1, array2), axis = 1) \n",
        "print(\"Stacked array 2 has dimensions\", stacked_array2.shape, \"\\n\")\n",
        "\n",
        "stacked_array3 = np.stack((array1, array2), axis = 2) \n",
        "print(\"Stacked array 3 has dimensions\", stacked_array3.shape, \"\\n\")\n",
        "\n",
        "stacked_array4 = np.stack((array1, array2), axis = -1)\n",
        "print(\"Stacked array 4 has dimensions\", stacked_array4.shape, \"\\n\")"
      ]
    },
    {
      "cell_type": "markdown",
      "metadata": {
        "id": "_8B92WGzHpUy"
      },
      "source": [
        "### c. Repeat\n",
        "\n",
        "The repeat operation repeats elements of an array. The number of repetitions for each element is broadcasted to fit the shape of the given axis. The axis parameter specifies along which axis to repeat values. By default, it uses the flattened input array, and returns a flat output array."
      ]
    },
    {
      "cell_type": "code",
      "execution_count": 39,
      "metadata": {
        "id": "kIAEmQ10HpUz",
        "colab": {
          "base_uri": "https://localhost:8080/"
        },
        "outputId": "9428682e-2d65-4f33-882d-9f93642f8ce9"
      },
      "outputs": [
        {
          "output_type": "stream",
          "name": "stdout",
          "text": [
            "Array is \n",
            " [[1 2]\n",
            " [3 4]]  with dimensions  (2, 2) \n",
            "\n",
            "Repeated array 1 is \n",
            " [1 1 2 2 3 3 4 4] \n",
            "\n",
            " and the dimensions of the repeated array 1 are: \n",
            " (8,) \n",
            "\n",
            "Repeated array 2 is \n",
            " [[1 2]\n",
            " [1 2]\n",
            " [1 2]\n",
            " [3 4]\n",
            " [3 4]\n",
            " [3 4]] \n",
            "\n",
            " and the dimensions of the repeated array 2 are: \n",
            " (6, 2) \n",
            "\n",
            "Repeated array 3 is \n",
            " [[1 1 1 2 2 2]\n",
            " [3 3 3 4 4 4]] \n",
            "\n",
            " and the dimensions of the repeated array 3 are: \n",
            " (2, 6) \n",
            "\n",
            "Repeated array 4 is \n",
            " [[1 2]\n",
            " [1 2]\n",
            " [3 4]\n",
            " [3 4]\n",
            " [3 4]] \n",
            "\n",
            " and the dimensions of the repeated array 4 are: \n",
            " (5, 2) \n",
            "\n"
          ]
        }
      ],
      "source": [
        "\n",
        "# Repeat in Numpy Arrays\n",
        "\n",
        "original_array = np.array([[1,2],[3,4]])\n",
        "print(\"Array is \\n\", original_array, \" with dimensions \", original_array.shape, \"\\n\")\n",
        "\n",
        "repeated_array1 = np.repeat(original_array, 2)\n",
        "print(\"Repeated array 1 is \\n\", repeated_array1, \"\\n\\n\", \"and the dimensions of the repeated array 1 are: \\n\", repeated_array1.shape, \"\\n\")\n",
        "\n",
        "repeated_array2 = np.repeat(original_array, 3, axis=0)\n",
        "print(\"Repeated array 2 is \\n\", repeated_array2, \"\\n\\n\", \"and the dimensions of the repeated array 2 are: \\n\", repeated_array2.shape, \"\\n\")\n",
        "\n",
        "repeated_array3 = np.repeat(original_array, 3, axis=1)\n",
        "print(\"Repeated array 3 is \\n\", repeated_array3, \"\\n\\n\", \"and the dimensions of the repeated array 3 are: \\n\", repeated_array3.shape, \"\\n\")\n",
        "\n",
        "repeated_array4 = np.repeat(original_array, [2,3], axis=0)\n",
        "print(\"Repeated array 4 is \\n\", repeated_array4, \"\\n\\n\", \"and the dimensions of the repeated array 4 are: \\n\", repeated_array4.shape, \"\\n\")\n"
      ]
    },
    {
      "cell_type": "markdown",
      "metadata": {
        "id": "ezSu3dTfHpU0"
      },
      "source": [
        "## 8. Math operations"
      ]
    },
    {
      "cell_type": "markdown",
      "metadata": {
        "id": "CBxNr9bfHpU0"
      },
      "source": [
        "In this section we will cover some commonly used mathematical operations\n",
        "1. Broadcasting\n",
        "1. Point-wise/element-wise operations\n",
        "1. Reduction operations\n",
        "1. Comparison operations\n",
        "1. Vector/Matrix operations\n",
        "1. Tensordot"
      ]
    },
    {
      "cell_type": "markdown",
      "metadata": {
        "id": "On0Bg_gKHpU1"
      },
      "source": [
        "### a. Broadcasting"
      ]
    },
    {
      "cell_type": "code",
      "execution_count": 40,
      "metadata": {
        "id": "W7lhpjIcHpU2",
        "colab": {
          "base_uri": "https://localhost:8080/"
        },
        "outputId": "9369b8eb-2c3d-4650-e89c-3aebff0b9d81"
      },
      "outputs": [
        {
          "output_type": "stream",
          "name": "stdout",
          "text": [
            "A row array: \n",
            " [[0.43040244 0.51001685 0.53617749]]  with dimensions  (1, 3) \n",
            "\n",
            "A column array: \n",
            " [[0.68139251]\n",
            " [0.2775961 ]\n",
            " [0.12886057]\n",
            " [0.39267568]]  with dimensions  (4, 1) \n",
            "\n",
            "row array + column array = \n",
            "[[1.11179495 1.19140936 1.21757001]\n",
            " [0.70799854 0.78761295 0.81377359]\n",
            " [0.559263   0.63887742 0.66503806]\n",
            " [0.82307812 0.90269253 0.92885317]]  with dimensions  (4, 3) \n",
            "\n",
            "row array * column array = \n",
            "[[0.293273   0.34752166 0.36534733]\n",
            " [0.11947804 0.14157869 0.14884078]\n",
            " [0.0554619  0.06572106 0.06909214]\n",
            " [0.16900857 0.20027121 0.21054386]]  with dimensions  (4, 3) \n",
            "\n"
          ]
        }
      ],
      "source": [
        "# Broadcasting b/w arrays of different dimensions\n",
        "# Note: When broadting two multi-dimensional tensors, match their corresponding dimensions beginning from the last dimension.\n",
        "# All dimensions should either match or one of the arrays should have length 1 in that specific dimension\n",
        "\n",
        "row_arr = np.random.rand(1,3)\n",
        "print(\"A row array: \\n\", row_arr, \" with dimensions \", row_arr.shape, \"\\n\")\n",
        "col_arr = np.random.rand(4,1)\n",
        "print(\"A column array: \\n\", col_arr, \" with dimensions \", col_arr.shape, \"\\n\")\n",
        "- \n",
        "add_arr = row_arr + col_arr\n",
        "print(\"row array + column array = \")\n",
        "print(add_arr,\" with dimensions \", add_arr.shape, \"\\n\")\n",
        "mul_arr = row_arr * col_arr\n",
        "print(\"row array * column array = \")\n",
        "print(mul_arr,\" with dimensions \", mul_arr.shape, \"\\n\")"
      ]
    },
    {
      "cell_type": "markdown",
      "metadata": {
        "id": "m7r8UkqPHpU2"
      },
      "source": [
        "### b. Element-wise operations"
      ]
    },
    {
      "cell_type": "code",
      "execution_count": 42,
      "metadata": {
        "id": "Js-yiWiPHpU3",
        "colab": {
          "base_uri": "https://localhost:8080/"
        },
        "outputId": "a7fae0d0-4913-4a7c-8908-cb05cfd132c2"
      },
      "outputs": [
        {
          "output_type": "stream",
          "name": "stdout",
          "text": [
            "A random array1 : \n",
            " [[0.3277204  0.75677864 0.63606106]\n",
            " [0.24002027 0.16053882 0.79639147]]  with dimensions  (2, 3) \n",
            "\n",
            "A random array2 : \n",
            " [[0.9591666  0.45813883 0.59098417]\n",
            " [0.85772264 0.45722345 0.95187448]]  with dimensions  (2, 3) \n",
            "\n",
            "random array1 + 5.0 =\n",
            "[[5.3277204  5.75677864 5.63606106]\n",
            " [5.24002027 5.16053882 5.79639147]] \n",
            "\n",
            "random array1 * 5.0 =\n",
            "[[1.63860201 3.78389321 3.18030528]\n",
            " [1.20010137 0.80269411 3.98195737]] \n",
            "\n",
            "random array1 + random array2 =\n",
            "[[1.286887   1.21491747 1.22704522]\n",
            " [1.09774292 0.61776228 1.74826595]] \n",
            "\n",
            "random array1 * random array2 =\n",
            "[[0.31433846 0.34670968 0.37590201]\n",
            " [0.20587082 0.07340211 0.75806472]] \n",
            "\n",
            "abs (-10 * random array1) =\n",
            "[[3.27720402 7.56778643 6.36061055]\n",
            " [2.40020273 1.60538822 7.96391475]] \n",
            "\n",
            "sqrt(random array1) = \n",
            " [[0.57246869 0.86993025 0.79753436]\n",
            " [0.48991864 0.40067296 0.89240768]] \n",
            "\n"
          ]
        }
      ],
      "source": [
        "rand_arr_1 = np.random.rand(2,3)\n",
        "print(\"A random array1 : \\n\", rand_arr_1, \" with dimensions \", rand_arr_1.shape, \"\\n\")\n",
        "rand_arr_2 = np.random.rand(2,3)\n",
        "print(\"A random array2 : \\n\", rand_arr_2, \" with dimensions \", rand_arr_2.shape, \"\\n\")\n",
        "scalar = 5.0\n",
        "\n",
        "# Addition with Scalars\n",
        "new_arr_1 = rand_arr_1 + scalar\n",
        "print(\"random array1 + 5.0 =\")\n",
        "print(new_arr_1, \"\\n\")\n",
        "\n",
        "# Multiplication with Scalars\n",
        "new_arr_2 = rand_arr_1 * scalar\n",
        "print(\"random array1 * 5.0 =\")\n",
        "print(new_arr_2, \"\\n\")\n",
        "\n",
        "# Elementwise Addition of Arrays\n",
        "new_arr_3 = rand_arr_1 + rand_arr_2\n",
        "print(\"random array1 + random array2 =\")\n",
        "print(new_arr_3, \"\\n\")\n",
        "\n",
        "# Elementwise Multiplication of Arrays aka Hadmard Product\n",
        "new_arr_4 = rand_arr_1 * rand_arr_2\n",
        "print(\"random array1 * random array2 =\")\n",
        "print(new_arr_4, \"\\n\") # also equivalent to np.multiply(array1, array2)\n",
        "\n",
        "# Absolute value\n",
        "new_arr_5 = np.abs(-10*rand_arr_1)\n",
        "print(\"abs (-10 * random array1) =\")\n",
        "print(new_arr_5, \"\\n\")\n",
        "\n",
        "# Square root value\n",
        "new_arr_6 = np.sqrt(rand_arr_1)\n",
        "print('sqrt(random array1) = \\n', new_arr_6, \"\\n\")"
      ]
    },
    {
      "cell_type": "markdown",
      "metadata": {
        "id": "oDAxkjUdHpU4"
      },
      "source": [
        "### c. Reduction"
      ]
    },
    {
      "cell_type": "code",
      "execution_count": 46,
      "metadata": {
        "id": "Uz-MTuk4HpU4",
        "colab": {
          "base_uri": "https://localhost:8080/"
        },
        "outputId": "4e91bd3c-fbf7-4e08-909e-b994f9842460"
      },
      "outputs": [
        {
          "output_type": "stream",
          "name": "stdout",
          "text": [
            "random array: \n",
            " [[0.92929142 0.09961493 0.94530153]\n",
            " [0.86948853 0.4541624  0.32670088]] \n",
            "\n",
            "Maximum value of array \n",
            " 0.9453015334790795 \n",
            "\n",
            "Maximum value of array with a single Nan value\n",
            " nan \n",
            "\n",
            "Minimum value of array \n",
            " 0.09961493022127133 \n",
            "\n",
            "Minimum value of array with a single Nan value\n",
            " nan \n",
            "\n",
            "Sum of array \n",
            " 3.624559690225509 \n",
            "\n",
            "Maximum value's index of array along axis 0 \n",
            " [0 1 0] \n",
            "\n",
            "Minimum value's index of array along axis 1 \n",
            " [1 2] \n",
            "\n",
            "Mean value of array \n",
            " 0.6040932817042515 \n",
            "\n",
            "Standard deviation value of array \n",
            " 0.32826202883702904 \n",
            "\n",
            "Norm value of array \n",
            " 1.6840747950903152 \n",
            "\n"
          ]
        }
      ],
      "source": [
        "rand_arr = np.random.rand(2,3)\n",
        "print('random array: \\n', rand_arr, \"\\n\")\n",
        "\n",
        "max_val = np.max(rand_arr)\n",
        "print('Maximum value of array \\n', max_val, \"\\n\")\n",
        "rand_arr2= rand_arr.copy()\n",
        "rand_arr2[0,0] = np.nan\n",
        "print('Maximum value of array with a single Nan value\\n', np.max(rand_arr2), \"\\n\")\n",
        "\n",
        "min_val = np.min(rand_arr)\n",
        "print('Minimum value of array \\n', min_val, \"\\n\")\n",
        "print('Minimum value of array with a single Nan value\\n', np.min(rand_arr2), \"\\n\")\n",
        "\n",
        "sum_val = np.sum(rand_arr)\n",
        "print('Sum of array \\n', sum_val, \"\\n\")\n",
        "max_idx = np.argmax(rand_arr, axis=0)\n",
        "print('Maximum value\\'s index of array along axis 0 \\n', max_idx, \"\\n\")\n",
        "min_idx = np.argmin(rand_arr, axis=1)\n",
        "print('Minimum value\\'s index of array along axis 1 \\n', min_idx, \"\\n\")\n",
        "\n",
        "mean_val = np.mean(rand_arr)\n",
        "print('Mean value of array \\n', mean_val, \"\\n\")\n",
        "std_val = np.std(rand_arr)\n",
        "print('Standard deviation value of array \\n', std_val, \"\\n\")\n",
        "norm_val = np.linalg.norm(rand_arr)\n",
        "print('Norm value of array \\n', norm_val, \"\\n\")"
      ]
    },
    {
      "cell_type": "markdown",
      "metadata": {
        "id": "npxbAysGHpU5"
      },
      "source": [
        "### d. Comparision"
      ]
    },
    {
      "cell_type": "code",
      "execution_count": 2,
      "metadata": {
        "id": "p4-UOMlDHpU6",
        "colab": {
          "base_uri": "https://localhost:8080/"
        },
        "outputId": "214c30b2-fb96-485b-9685-2c6c7b633da4"
      },
      "outputs": [
        {
          "output_type": "stream",
          "name": "stdout",
          "text": [
            "random array1: \n",
            " [[0.87475299 0.15265905 0.85133307]\n",
            " [0.85671317 0.1116719  0.3386628 ]] \n",
            "\n",
            "random array2: \n",
            " [[0.295661   0.30968876 0.93406619]\n",
            " [0.59358592 0.48109238 0.8592406 ]] \n",
            "\n",
            "random array1 > random array2\n",
            "[[ True False False]\n",
            " [ True False False]] \n",
            "\n",
            "random array1 < random array2\n",
            "[[False  True  True]\n",
            " [False  True  True]] \n",
            "\n",
            "random array1 != random array2\n",
            "[[ True  True  True]\n",
            " [ True  True  True]] \n",
            "\n",
            "any values for random array1 > random array2:\n",
            "True \n",
            "\n",
            "all values for random array1 > random array2:\n",
            "False \n",
            "\n",
            "any values along first axis for random array1 > random array2:\n",
            "[ True False False] \n",
            "\n",
            "any values along second axis for random array1 > random array2:\n",
            "[ True  True] \n",
            "\n",
            "any values for random array1 != random array2:\n",
            "True \n",
            "\n",
            "all values for random array1 != random array2:\n",
            "True \n",
            "\n"
          ]
        }
      ],
      "source": [
        "rand_arr_1 = np.random.rand(2,3)\n",
        "print('random array1: \\n', rand_arr_1, '\\n')\n",
        "rand_arr_2 = np.random.rand(2,3)\n",
        "print('random array2: \\n', rand_arr_2, '\\n')\n",
        "\n",
        "# Element-wise Comparison Operations\n",
        "greater_compare = rand_arr_1 > rand_arr_2\n",
        "print('random array1 > random array2')\n",
        "print(greater_compare, '\\n')\n",
        "\n",
        "less_compare = rand_arr_1 < rand_arr_2\n",
        "print('random array1 < random array2')\n",
        "print(less_compare, '\\n')\n",
        "\n",
        "not_equal_compare = rand_arr_1 != rand_arr_2\n",
        "print('random array1 != random array2')\n",
        "print(not_equal_compare, '\\n')\n",
        "\n",
        "# Combining reduction operations with boolean arrays\n",
        "print(\"any values for random array1 > random array2:\")\n",
        "print((rand_arr_1 > rand_arr_2).any(), \"\\n\")\n",
        "\n",
        "print(\"all values for random array1 > random array2:\")\n",
        "print((rand_arr_1 > rand_arr_2).all(), \"\\n\")\n",
        "\n",
        "print(\"any values along first axis for random array1 > random array2:\")\n",
        "print((rand_arr_1 > rand_arr_2).any(axis=0), \"\\n\")\n",
        "\n",
        "print(\"any values along second axis for random array1 > random array2:\")\n",
        "print((rand_arr_1 > rand_arr_2).any(axis=1), \"\\n\")\n",
        "\n",
        "print(\"any values for random array1 != random array2:\")\n",
        "print((rand_arr_1 != rand_arr_2).any(), \"\\n\")\n",
        "\n",
        "print(\"all values for random array1 != random array2:\")\n",
        "print((rand_arr_1 != rand_arr_2).all(), \"\\n\")"
      ]
    },
    {
      "cell_type": "markdown",
      "metadata": {
        "id": "YOFOkJNyHpU7"
      },
      "source": [
        "### e. Vector/Matrix operations"
      ]
    },
    {
      "cell_type": "code",
      "execution_count": 2,
      "metadata": {
        "id": "yvRuChqYHpU8",
        "colab": {
          "base_uri": "https://localhost:8080/"
        },
        "outputId": "5f018f75-46fa-4d0b-fd0e-7fb47774df76"
      },
      "outputs": [
        {
          "output_type": "stream",
          "name": "stdout",
          "text": [
            "Array1 \n",
            " [-0.95766245 -0.1754799   0.5026823 ] with dimension  (3,) \n",
            "\n",
            "Array2 \n",
            " [-0.8421952  -0.34102251 -1.14027655] with dimension  (3,) \n",
            "\n",
            "Matmul of the two arrays can be derived by using np.matmul(array1, array2) \n",
            " 0.29318448184915114\n",
            "Matmul of the two arrays can also be derived by using array1@array2 \n",
            " 0.29318448184915114\n",
            "Dimensions of resulting product: \n",
            " ()\n",
            "Array3 \n",
            " [[-0.08361001  0.11762383 -0.93588409 -0.25292258]\n",
            " [ 1.04926534 -0.25018189 -0.57098984 -0.19749165]\n",
            " [ 0.67362986 -2.40202299 -0.55886531 -1.77179125]] with dimension  (3, 4) \n",
            "\n",
            "Array4 \n",
            " [ 1.2730486   0.52267795  0.13344704 -0.68350559] with dimension  (4,) \n",
            "\n",
            "Matmul of a vector and a matrix can be derived by using np.matmul(array3, array4) \n",
            " [0.00302282 1.26379096 0.7385294 ]\n",
            "Matmul of a vector and a matrix can also be derived by using array3@array4 \n",
            " [0.00302282 1.26379096 0.7385294 ]\n",
            "Dimensions of resulting product: \n",
            " (3,)\n",
            "Matrix1 \n",
            " [[1 0 2]\n",
            " [0 1 0]] with dimension  (2, 3) \n",
            "\n",
            "Matrix2 \n",
            " [[1 3]\n",
            " [0 0]\n",
            " [0 3]] with dimension  (3, 2) \n",
            "\n",
            "Matmul of two matrices can be derived by using np.matmul(matrix1, matrix2) \n",
            " [[1 9]\n",
            " [0 0]]\n",
            "Dimensions of resulting product: \n",
            " (2, 2) \n",
            "\n"
          ]
        }
      ],
      "source": [
        "# Vector x Vector\n",
        "array1 = np.random.randn(3)\n",
        "array2 = np.random.randn(3)\n",
        "\n",
        "print('Array1 \\n', array1, 'with dimension ', array1.shape, '\\n')\n",
        "print('Array2 \\n', array2, 'with dimension ', array2.shape, '\\n')\n",
        "\n",
        "matmul_arr = np.matmul(array1, array2)\n",
        "another_arr = array1@array2\n",
        "print('Matmul of the two arrays can be derived by using np.matmul(array1, array2) \\n', matmul_arr)\n",
        "print(\"Matmul of the two arrays can also be derived by using array1@array2 \\n\", another_arr)\n",
        "print('Dimensions of resulting product: \\n', matmul_arr.shape)\n",
        "\n",
        "# Matrix x Vector\n",
        "array3 = np.random.randn(3, 4)\n",
        "array4 = np.random.randn(4)\n",
        "\n",
        "print('Array3 \\n', array3, 'with dimension ', array3.shape, '\\n')\n",
        "print('Array4 \\n', array4, 'with dimension ', array4.shape, '\\n')\n",
        "\n",
        "matmul_arr = np.matmul(array3, array4)\n",
        "another_arr = array3@array4\n",
        "print('Matmul of a vector and a matrix can be derived by using np.matmul(array3, array4) \\n', matmul_arr)\n",
        "print('Matmul of a vector and a matrix can also be derived by using array3@array4 \\n', another_arr)\n",
        "print('Dimensions of resulting product: \\n', matmul_arr.shape)\n",
        "\n",
        "# Matrix x Matrix \n",
        "\n",
        "matrix1 = np.random.randint(4, size = (2, 3))\n",
        "matrix2 = np.random.randint(4, size = (3, 2))\n",
        "\n",
        "print('Matrix1 \\n', matrix1, 'with dimension ', matrix1.shape, '\\n')\n",
        "print('Matrix2 \\n', matrix2, 'with dimension ', matrix2.shape, '\\n')\n",
        "\n",
        "matmul_mat = np.matmul(matrix1, matrix2)\n",
        "print('Matmul of two matrices can be derived by using np.matmul(matrix1, matrix2) \\n', matmul_mat)\n",
        "print('Dimensions of resulting product: \\n', matmul_mat.shape, \"\\n\")"
      ]
    },
    {
      "cell_type": "code",
      "execution_count": 4,
      "metadata": {
        "id": "wtxzUY87HpU9",
        "colab": {
          "base_uri": "https://localhost:8080/"
        },
        "outputId": "fd3e5ff3-c4a2-481f-dbe3-226c62356cbd"
      },
      "outputs": [
        {
          "output_type": "stream",
          "name": "stdout",
          "text": [
            "Matrix1 \n",
            " [[0.79640269 0.46577877]\n",
            " [0.31933132 0.74160154]\n",
            " [0.38558211 0.56642172]\n",
            " [0.1492746  0.14696139]] with dimension  (4, 2) \n",
            "\n",
            "Matrix2 \n",
            " [[0.34480158 0.73281326 0.50604166]\n",
            " [0.16455577 0.56206248 0.31760764]] with dimension  (2, 3) \n",
            "\n",
            "Dot product of two matrices can be derived by using np.dot(mat1, mat2) \n",
            " [[0.35124749 0.84541122 0.55094783]\n",
            " [0.23214076 0.65083663 0.39713327]\n",
            " [0.22615728 0.60092408 0.37502048]\n",
            " [0.07565346 0.19199188 0.12221522]]\n",
            "Dot product of two matrices can also be derived by using mat1@mat2 \n",
            " [[0.35124749 0.84541122 0.55094783]\n",
            " [0.23214076 0.65083663 0.39713327]\n",
            " [0.22615728 0.60092408 0.37502048]\n",
            " [0.07565346 0.19199188 0.12221522]]\n",
            "Dimensions of resulting product: \n",
            " (4, 3)\n",
            "array1 's dimension  (9, 5, 7, 4) \n",
            "\n",
            "array2 's dimension  (9, 5, 4, 3) \n",
            "\n",
            "Matmul of two multi-dimension arrays can be derived by using np.matmul(array1, array2) \n",
            "\n",
            "Dimensions of resulting product: \n",
            " (9, 5, 7, 3)\n",
            "array1 's dimension  (9, 5, 7, 4) \n",
            "\n",
            "array2 's dimension  (4, 3) \n",
            "\n",
            "Matmul of two multi-dimension arrays can be derived by using np.matmul(array1, array2) \n",
            "\n",
            "Dimensions of resulting product: \n",
            " (9, 5, 7, 3)\n"
          ]
        }
      ],
      "source": [
        "rand_mat_1 = np.random.rand(4,2)\n",
        "rand_mat_2 = np.random.rand(2,3)\n",
        "print('Matrix1 \\n', rand_mat_1, 'with dimension ', rand_mat_1.shape, '\\n')\n",
        "print('Matrix2 \\n', rand_mat_2, 'with dimension ', rand_mat_2.shape, '\\n')\n",
        "\n",
        "# dot product\n",
        "dot_mat = np.dot(rand_mat_1, rand_mat_2)\n",
        "another_mat = rand_mat_1@rand_mat_2\n",
        "print('Dot product of two matrices can be derived by using np.dot(mat1, mat2) \\n', dot_mat)\n",
        "print('Dot product of two matrices can also be derived by using mat1@mat2 \\n', another_mat)\n",
        "print('Dimensions of resulting product: \\n', dot_mat.shape)\n",
        "\n",
        "a = np.ones([9, 5, 7, 4])\n",
        "b = np.ones([9, 5, 4, 3])\n",
        "print('array1 \\'s dimension ', a.shape, '\\n')\n",
        "print('array2 \\'s dimension ', b.shape, '\\n')\n",
        "\n",
        "# matmul with multi-dimenstion arrays\n",
        "c = np.matmul(a,b)\n",
        "print('Matmul of two multi-dimension arrays can be derived by using np.matmul(array1, array2) \\n')\n",
        "print('Dimensions of resulting product: \\n', c.shape)\n",
        "\n",
        "a = np.ones([9, 5, 7, 4])\n",
        "b = np.ones([4, 3])\n",
        "print('array1 \\'s dimension ', a.shape, '\\n')\n",
        "print('array2 \\'s dimension ', b.shape, '\\n')\n",
        "\n",
        "# matmul with multi-dimenstion arrays and broadcasting\n",
        "c = np.matmul(a,b)\n",
        "print('Matmul of two multi-dimension arrays can be derived by using np.matmul(array1, array2) \\n')\n",
        "print('Dimensions of resulting product: \\n', c.shape)"
      ]
    },
    {
      "cell_type": "markdown",
      "metadata": {
        "id": "hNlgofWYHpU-"
      },
      "source": [
        "### f. Tensordot\n",
        "\n",
        "Understanding tensordot function will help you in writing succint code for your homeworks especially in Convolutional Neural Net assignment.\n",
        "\n",
        "To give a brief overview: \n",
        "We input the arrays and the respective axes along which the sum-reductions are intended. The axes that take part in sum-reduction are removed in the output and all of the remaining axes from the input arrays are spread-out as different axes in the output keeping the order in which the input arrays are fed.\n",
        "\n",
        "To understand in depth please checkout: https://stackoverflow.com/questions/41870228/understanding-tensordot"
      ]
    },
    {
      "cell_type": "code",
      "source": [
        "# First let's undersatnd numpy.dot\n",
        "a = np.arange(3)\n",
        "b = np.arange(3)*2\n",
        "op1 = np.dot(a,b)\n",
        "op2 = np.matmul(a,b)\n",
        "print(\"Dot product of two vectors:\",op1)\n",
        "print(\"Matmul of two vectors:\",op1)\n",
        "print(\"It is basically the Hamdard product. The result will be same using .dot and .matmul\")\n",
        "\n",
        "\n",
        "a = np.array([2+1.j, 1.j])\n",
        "b = np.array([1, 3j])\n",
        "\"\"\"\n",
        "Inner product (a,b) https://www.statlect.com/matrix-algebra/inner-product\n",
        "For the above example, it will be as follows:-\n",
        "Conj(1).(2+j) + Conj(3j).j=> 2+j -3j.j=> 2+j+3=> 5+j\n",
        "\n",
        "numpy.dot returns Inner product without complex conjugate\n",
        "1.(2+j) + 3j.j=> 2 + j -3 => -1 + j\n",
        "\"\"\" \n",
        "print(a)\n",
        "print(b)\n",
        "print(\"The dot product of two complex vectors\")\n",
        "print(np.dot(a,b))\n",
        "print(np.dot(b,a))\n"
      ],
      "metadata": {
        "colab": {
          "base_uri": "https://localhost:8080/"
        },
        "id": "0MiJcaGJuoST",
        "outputId": "d6006fdb-1da8-4f2a-aba6-d5eb227dd23a"
      },
      "execution_count": 18,
      "outputs": [
        {
          "output_type": "stream",
          "name": "stdout",
          "text": [
            "Dot product of two vectors: 10\n",
            "Matmul of two vectors: 10\n",
            "It is basically the Hamdard product. The result will be same using .dot and .matmul\n",
            "[2.+1.j 0.+1.j]\n",
            "[1.+0.j 0.+3.j]\n",
            "The dot product of two complex vectors\n",
            "(-1+1j)\n",
            "(-1+1j)\n"
          ]
        }
      ]
    },
    {
      "cell_type": "code",
      "execution_count": 7,
      "metadata": {
        "id": "fF13GqyiHpU_",
        "colab": {
          "base_uri": "https://localhost:8080/"
        },
        "outputId": "2e0aed0a-500c-4972-b318-7aa4c5fe4cfe"
      },
      "outputs": [
        {
          "output_type": "stream",
          "name": "stdout",
          "text": [
            "A 's dimension  (3, 4, 5) \n",
            "\n",
            "B 's dimension  (4, 3, 2) \n",
            "\n",
            "A⨂B =\n",
            " [[4400. 4730.]\n",
            " [4532. 4874.]\n",
            " [4664. 5018.]\n",
            " [4796. 5162.]\n",
            " [4928. 5306.]]  with dimension (5, 2) \n",
            "\n",
            "tensor dot is equal to sum over certain dimensions.\n",
            "\n",
            "[[ True  True]\n",
            " [ True  True]\n",
            " [ True  True]\n",
            " [ True  True]\n",
            " [ True  True]]\n"
          ]
        }
      ],
      "source": [
        "a = np.arange(60.).reshape(3,4,5)\n",
        "b = np.arange(24.).reshape(4,3,2)\n",
        "print('A \\'s dimension ', a.shape, '\\n')\n",
        "print('B \\'s dimension ', b.shape, '\\n')\n",
        "\n",
        "# compute tensor dot product along specified axes.\n",
        "c = np.tensordot(a,b, axes=([1,0],[0,1]))\n",
        "print(\"A⨂B =\\n\", c, ' with dimension', c.shape, '\\n')\n",
        "\n",
        "# this equals to \n",
        "d = np.zeros((5,2))\n",
        "for i in range(5):\n",
        "  for j in range(2):\n",
        "    for k in range(3):\n",
        "      for n in range(4):\n",
        "        d[i,j] += a[k,n,i] * b[n,k,j]\n",
        "print(\"tensor dot is equal to sum over certain dimensions.\\n\")\n",
        "print(c==d)"
      ]
    }
  ],
  "metadata": {
    "colab": {
      "provenance": []
    },
    "kernelspec": {
      "display_name": "Python 3.9.1 64-bit",
      "language": "python",
      "name": "python3"
    },
    "language_info": {
      "name": "python",
      "version": "3.9.1"
    },
    "vscode": {
      "interpreter": {
        "hash": "397704579725e15f5c7cb49fe5f0341eb7531c82d19f2c29d197e8b64ab5776b"
      }
    }
  },
  "nbformat": 4,
  "nbformat_minor": 0
}